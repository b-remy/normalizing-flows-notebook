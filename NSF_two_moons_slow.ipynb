{
  "nbformat": 4,
  "nbformat_minor": 0,
  "metadata": {
    "colab": {
      "name": "NSF_two_moons_slow.ipynb",
      "provenance": []
    },
    "kernelspec": {
      "name": "python3",
      "display_name": "Python 3"
    }
  },
  "cells": [
    {
      "cell_type": "code",
      "metadata": {
        "id": "cOEewo4Q_UHy",
        "colab_type": "code",
        "outputId": "1081045a-cd2d-4a55-8938-17ddbec731f7",
        "colab": {
          "base_uri": "https://localhost:8080/",
          "height": 65
        }
      },
      "source": [
        "%pylab inline\n",
        "import tensorflow as tf\n",
        "import tensorflow_probability as tfp\n",
        "import numpy as np\n",
        "\n",
        "tfd = tfp.distributions\n",
        "tfb = tfp.bijectors\n",
        "\n",
        "print(\"TFP Version\", tfp.__version__)\n",
        "print(\"TF  Version\",tf.__version__)"
      ],
      "execution_count": 1,
      "outputs": [
        {
          "output_type": "stream",
          "text": [
            "Populating the interactive namespace from numpy and matplotlib\n",
            "TFP Version 0.10.0\n",
            "TF  Version 2.2.0\n"
          ],
          "name": "stdout"
        }
      ]
    },
    {
      "cell_type": "markdown",
      "metadata": {
        "id": "DJyCOnmPtWuR",
        "colab_type": "text"
      },
      "source": [
        "Neural Spline Flow implementation from:\n",
        "\n",
        "https://github.com/LukasRinder/normalizing-flows/blob/master/normalizingflows/flow_catalog.py"
      ]
    },
    {
      "cell_type": "code",
      "metadata": {
        "id": "EfVV-PF0_pFd",
        "colab_type": "code",
        "colab": {}
      },
      "source": [
        "from tensorflow.keras.layers import Layer, Dense, BatchNormalization, Reshape\n",
        "from tensorflow.keras import Model\n",
        "\n",
        "class NN_Spline(Layer):\n",
        "    def __init__(self, layers, k_dim, remaining_dims, first_d_dims, activation=\"relu\"):\n",
        "        super(NN_Spline, self).__init__(name=\"nn\")\n",
        "        self.k_dim = k_dim\n",
        "        layer_list = []\n",
        "        layer_list.append(Dense(layers[0], activation=activation, input_dim=first_d_dims, dtype=tf.float32, name=f'0_layer'))\n",
        "        for i, hidden in enumerate(layers[1:]):\n",
        "            layer_list.append(Dense(hidden, activation=activation, dtype=tf.float32, name=f'{i+1}_layer'))\n",
        "        layer_list.append(Dense(remaining_dims*(3*k_dim-1), dtype=tf.float32, name='last_layer'))\n",
        "        self.layer_list = layer_list\n",
        "\n",
        "    def call(self, x):\n",
        "        y = x\n",
        "        for layer in self.layer_list:\n",
        "            y = layer(y)\n",
        "        return y\n",
        "\n",
        "class NeuralSplineFlow(tfb.Bijector):\n",
        "    \"\"\"\n",
        "    Implementation of a Neural Spline Flows by Durkan et al. [1].\n",
        "    :param n_dims: The dimension of the vector-sized input. Each individual input should be a vector with d_dim dimensions.\n",
        "    :param number_of_bins: Number of bins to create the spline\n",
        "    :param nn_layers: Python list-like of non-negative integers, specifying the number of units in each hidden layer.\n",
        "    :param b_interval: Interval to define the spline function. Spline function behaves as identity outside of the interval\n",
        "    :param d_dim: The number of dimensions to create the parameters of the spline. (d_dim-1) dims are used to create the parameters as in paper.\n",
        "    :param simetric_interval: If this is true we have a interval of [-b_interval, b_interval]. [0, 2*b_interval] if false.\n",
        "    \"\"\"\n",
        "    \n",
        "    def __init__(self,input_dim, d_dim, b_interval, number_of_bins=5, nn_layers = [16, 16], n_dims=1, simetric_interval: bool = True, validate_args: bool = False, name=\"neural_spline_flow\"):\n",
        "        super(NeuralSplineFlow, self).__init__(\n",
        "            validate_args=validate_args, forward_min_event_ndims=1, name=name\n",
        "        )\n",
        "        \n",
        "        self.event_ndims = 1\n",
        "        self.total_input_dim = input_dim\n",
        "        self.first_d_dims = d_dim-1\n",
        "        self.remaining_dims = input_dim-self.first_d_dims\n",
        "        self.number_of_bins = number_of_bins\n",
        "        self.number_of_knots= number_of_bins+1\n",
        "        self.b_interval = tf.constant(b_interval, dtype=tf.float32)\n",
        "        self.nn = NN_Spline(layers= nn_layers, k_dim = self.number_of_bins, first_d_dims= self.first_d_dims, remaining_dims= self.remaining_dims)\n",
        "        x = tf.keras.Input(self.first_d_dims, dtype=tf.float32)\n",
        "        output = self.nn(x)\n",
        "        self.min_bin_width = 1e-3 #maximum number of bins 1/1e-3 then...\n",
        "        self.nn_model = Model(x, output, name=\"nn\")\n",
        "        self.simetric_interval = simetric_interval\n",
        "        \n",
        "    # some calculation could be done in one-line of code but it was preferred to explicitly write them\n",
        "    # for easy debugging purposes during the development and also to give an understanding of the implementations of the terms in the paper \n",
        "    # to the reader \n",
        "    def _produce_thetas(self, x):\n",
        "        thetas = self.nn_model(x)\n",
        "        thetas = tf.reshape(thetas, [tf.shape(x)[0], self.remaining_dims, 3*self.number_of_bins-1])\n",
        "        return thetas\n",
        "    \n",
        "    def _get_thetas(self, thetas, input_mask_indexes):\n",
        "        thetas_for_input = tf.gather_nd(thetas, input_mask_indexes)\n",
        "        thetas_1 = thetas_for_input[:, :self.number_of_bins]\n",
        "        thetas_2 = thetas_for_input[:, self.number_of_bins:2*self.number_of_bins]\n",
        "        thetas_3 = thetas_for_input[:, 2*self.number_of_bins:]\n",
        "        return thetas_1, thetas_2, thetas_3\n",
        "\n",
        "    \n",
        "    def _bins(self, thetas, intervals):\n",
        "        normalized_widths = tf.math.softmax(thetas)\n",
        "        normalized_widths_filled = self.min_bin_width + (1 - self.min_bin_width * self.number_of_bins) * normalized_widths       \n",
        "        expanded_widths = normalized_widths_filled * 2 * tf.expand_dims(intervals,1)\n",
        "        return expanded_widths\n",
        "        \n",
        "    def _knots(self, bins, intervals):\n",
        "        interval = -1 * tf.expand_dims(intervals,1)\n",
        "        b = tf.concat([tf.zeros((tf.shape(bins)[0],1), dtype=tf.float32),  tf.dtypes.cast((tf.math.cumsum(bins, axis=1)),tf.float32)], 1) + tf.dtypes.cast(interval,tf.float32) if self.simetric_interval else tf.concat([tf.zeros((tf.shape(bins)[0],1), dtype=tf.float32),  tf.dtypes.cast((tf.math.cumsum(bins, axis=1)),tf.float32)], 1)\n",
        "        return b\n",
        "        \n",
        "    def _derivatives(self, thetas):\n",
        "        inner_derivatives = tf.math.softplus(thetas)\n",
        "        c = tf.concat([tf.ones((tf.shape(inner_derivatives)[0],1), dtype=tf.float32), inner_derivatives, tf.ones((tf.shape(inner_derivatives)[0],1),dtype=tf.float32)], 1)\n",
        "        return c + self.min_bin_width\n",
        "        \n",
        "    def _s_values(self, y_bins, x_bins):\n",
        "        y = y_bins / x_bins\n",
        "        return y\n",
        "            \n",
        "    def _knots_locations(self, x, knot_xs):\n",
        "        x_binary_mask = tf.cast((tf.expand_dims(x,1) > knot_xs), tf.int32)\n",
        "        knot_xs = tf.reduce_sum(x_binary_mask, axis=1)     \n",
        "        return knot_xs\n",
        "        \n",
        "    def _indices(self, locations):\n",
        "        row_indices = tf.range(tf.shape(locations)[0], dtype=tf.int32)\n",
        "        z = tf.transpose(tf.stack([row_indices, locations]))        \n",
        "        return z\n",
        "        \n",
        "    def _xi_values(self, x , knot_xs, x_bin_sizes, ind):\n",
        "        f = (tf.transpose(x) - tf.gather_nd(knot_xs, ind)) / tf.gather_nd(x_bin_sizes, ind)\n",
        "        return f\n",
        "  \n",
        "    def _g_function(self, x, bin_ind, knot_ind, xi_values, s_values, y_bin_sizes, derivatives, knot_ys):\n",
        "        xi_times_1_minus_xi = xi_values * (1 - xi_values)\n",
        "        s_k = tf.gather_nd(s_values, bin_ind)\n",
        "        y_kplus1_minus_y_k = tf.gather_nd(y_bin_sizes, bin_ind)\n",
        "        xi_square = xi_values**2\n",
        "        d_k = tf.gather_nd(derivatives, bin_ind)\n",
        "        d_kplus1 = tf.gather_nd(derivatives, knot_ind)\n",
        "        y_k = tf.gather_nd(knot_ys,bin_ind)\n",
        "        second_term_nominator = y_kplus1_minus_y_k * (s_k * xi_square + d_k * xi_times_1_minus_xi)        \n",
        "        second_term_denominator =  s_k + (d_kplus1 + d_k - 2*s_k) * xi_times_1_minus_xi\n",
        "        forward_val = y_k + second_term_nominator / second_term_denominator\n",
        "        return forward_val\n",
        "    \n",
        "    def _inverse_g_function(self, input_for_inverse, floor_indices, ceil_indices, s_values, y_bin_sizes, derivatives, knot_ys, knot_xs, x_bin_sizes):\n",
        "        y_minus_y_k = tf.dtypes.cast(tf.transpose(input_for_inverse), tf.float32) - tf.dtypes.cast(tf.gather_nd(knot_ys, floor_indices), tf.float32)\n",
        "        s_k = tf.gather_nd(s_values,floor_indices)\n",
        "        y_kplus1_minus_y_k = tf.gather_nd(y_bin_sizes, floor_indices)\n",
        "        d_k = tf.gather_nd(derivatives,floor_indices)\n",
        "        d_kplus1 = tf.gather_nd(derivatives,ceil_indices)\n",
        "        common_term = y_minus_y_k*(d_kplus1 + d_k - 2*s_k)\n",
        "        a = y_kplus1_minus_y_k * (s_k - d_k) + common_term\n",
        "        b = y_kplus1_minus_y_k * d_k - common_term\n",
        "        c = -1 * s_k * y_minus_y_k\n",
        "        b_squared_minus_4ac = b**2 - 4 * a * c\n",
        "        sqrt_b_squared_minus_4ac = tf.math.sqrt(b_squared_minus_4ac)\n",
        "        denominator = (-1 * b - sqrt_b_squared_minus_4ac)\n",
        "        xi_x_d_to_D = 2 * c / denominator\n",
        "        x_d_to_D = xi_x_d_to_D * tf.gather_nd(x_bin_sizes, floor_indices) + tf.gather_nd(knot_xs, floor_indices)\n",
        "        return x_d_to_D\n",
        "    \n",
        "    def _derivative_of_g_func(self, x, floor_indices, ceil_indices, xi_values, s_values, derivatives):\n",
        "        one_minus_xi = (1 - xi_values)\n",
        "        xi_times_1_minus_xi = xi_values * one_minus_xi\n",
        "        s_k = tf.gather_nd(s_values, floor_indices)\n",
        "        one_minus_xi_square = one_minus_xi**2\n",
        "        d_k = tf.gather_nd(derivatives, floor_indices)\n",
        "        d_kplus1 = tf.gather_nd(derivatives, ceil_indices)\n",
        "        nominator = s_k**2 * (d_kplus1*(xi_values**2) + 2*s_k*xi_times_1_minus_xi + d_k*one_minus_xi_square)\n",
        "        denominator = (s_k + (d_kplus1 + d_k - 2*s_k)*xi_times_1_minus_xi)**2\n",
        "        derivative_result = nominator/denominator\n",
        "        return derivative_result\n",
        "    \n",
        "    \n",
        "    def _data_mask(self, x_d_to_D, interval):\n",
        "        less_than_right_limit_mask = tf.less(x_d_to_D, interval)      \n",
        "        bigger_than_left_limit_mask = tf.greater(x_d_to_D, -1.0 * interval)\n",
        "        input_mask = less_than_right_limit_mask & bigger_than_left_limit_mask\n",
        "        return input_mask\n",
        "    \n",
        "    def _forward(self, x):\n",
        "        x_1_to_d, x_d_to_D = x[:,:self.first_d_dims], x[:,self.first_d_dims:]\n",
        "        x_d_to_D = tf.constant(x_d_to_D, dtype=tf.float32)\n",
        "        x_1_to_d = tf.constant(x_1_to_d, dtype=tf.float32)\n",
        "        _, intervals_for_func = self.b_interval[:self.first_d_dims], self.b_interval[self.first_d_dims:]\n",
        "        y_1_to_d = x_1_to_d\n",
        "        input_mask = self._data_mask(x_d_to_D, intervals_for_func)\n",
        "\n",
        "        def return_identity(): return x\n",
        "        \n",
        "        def return_result():  \n",
        "            output = tf.zeros(tf.shape(x_d_to_D))\n",
        "            input_mask_indexes = tf.where(input_mask)\n",
        "            neg_input_mask_indexes = tf.where(~input_mask)\n",
        "            thetas = self._produce_thetas(x_1_to_d)\n",
        "            thetas_1, thetas_2, thetas_3 = self._get_thetas(thetas, input_mask_indexes)   \n",
        "            interval_indices = input_mask_indexes[:,1]\n",
        "           \n",
        "            input_for_spline = x_d_to_D[input_mask]\n",
        "            intervals_for_input = tf.gather(intervals_for_func, interval_indices)            \n",
        "            x_bin_sizes = self._bins(thetas_1,intervals_for_input)  \n",
        "            knot_xs = self._knots(x_bin_sizes, intervals_for_input)  \n",
        "            y_bin_sizes = self._bins(thetas_2,intervals_for_input) \n",
        "            knot_ys = self._knots(y_bin_sizes, intervals_for_input)\n",
        "            derivatives = self._derivatives(thetas_3)\n",
        "            locs = self._knots_locations(input_for_spline, knot_xs)\n",
        "            floor_indices = self._indices(locs-1)            \n",
        "            ceil_indices = self._indices(locs)\n",
        "            xi_values = self._xi_values(input_for_spline , knot_xs, x_bin_sizes, floor_indices)\n",
        "            s_values = self._s_values(y_bin_sizes, x_bin_sizes)\n",
        "            forward_val = self._g_function(input_for_spline, floor_indices, ceil_indices, xi_values, s_values, y_bin_sizes, derivatives, knot_ys)\n",
        "            output = tf.tensor_scatter_nd_update(tf.dtypes.cast(tf.expand_dims(output,2), dtype=tf.float32), input_mask_indexes, tf.expand_dims(tf.dtypes.cast(tf.transpose(forward_val),dtype=tf.float32), 1))\n",
        "            output = tf.tensor_scatter_nd_update(output, neg_input_mask_indexes, tf.expand_dims(x_d_to_D[~input_mask],1))\n",
        "            return output\n",
        "        \n",
        "        #these conditions are used in order to be able to use tf.function however\n",
        "        #it didn't work with tf.function.\n",
        "        r = tf.cond(tf.equal(tf.reduce_any(input_mask), tf.constant(False)), return_identity, return_result)\n",
        "        y = tf.concat([y_1_to_d, tf.squeeze(r,-1)], axis=-1)\n",
        "        return y        \n",
        "\n",
        "    def _inverse(self, y):\n",
        "        y_1_to_d, y_d_to_D = y[:,:self.first_d_dims], y[:,self.first_d_dims:]\n",
        "        _, intervals_for_func = self.b_interval[:self.first_d_dims], self.b_interval[self.first_d_dims:]        \n",
        "        x_1_to_d = y_1_to_d\n",
        "        input_mask = self._data_mask(y_d_to_D, intervals_for_func)\n",
        "\n",
        "        def return_identity(): \n",
        "            return y\n",
        "        \n",
        "        def return_result():\n",
        "            output = tf.zeros(tf.shape(y_d_to_D), dtype=tf.float32)            \n",
        "            input_mask_indexes = tf.where(input_mask)\n",
        "            neg_input_mask_indexes = tf.where(~input_mask)            \n",
        "            thetas = self._produce_thetas(y_1_to_d)\n",
        "            thetas_1, thetas_2, thetas_3 = self._get_thetas(thetas, input_mask_indexes)\n",
        "            input_for_inverse = y_d_to_D[input_mask]\n",
        "            interval_indices = input_mask_indexes[:,1]\n",
        "\n",
        "            intervals_for_input = tf.gather(intervals_for_func, interval_indices)               \n",
        "            x_bin_sizes = self._bins(thetas_1, intervals_for_input)            \n",
        "            knot_xs = self._knots(x_bin_sizes, intervals_for_input)              \n",
        "            y_bin_sizes = self._bins(thetas_2, intervals_for_input) \n",
        "            knot_ys = self._knots(y_bin_sizes, intervals_for_input)\n",
        "            derivatives = self._derivatives(thetas_3)\n",
        "            locs = self._knots_locations(input_for_inverse, knot_ys)\n",
        "            floor_indices = self._indices(locs-1)\n",
        "            ceil_indices = self._indices(locs)            \n",
        "            s_values = self._s_values(y_bin_sizes, x_bin_sizes)\n",
        "\n",
        "            inverse_val = self._inverse_g_function(input_for_inverse, floor_indices, ceil_indices, s_values, y_bin_sizes, derivatives, knot_ys, knot_xs, x_bin_sizes)\n",
        "            output = tf.tensor_scatter_nd_update(tf.dtypes.cast(tf.expand_dims(output,2), dtype=tf.float32), input_mask_indexes, tf.expand_dims(tf.dtypes.cast(tf.transpose(inverse_val), dtype=tf.float32),1))\n",
        "            output = tf.tensor_scatter_nd_update(tf.dtypes.cast(output, dtype=tf.float32), neg_input_mask_indexes, tf.dtypes.cast(tf.expand_dims(y_d_to_D[~input_mask],1), tf.float32))\n",
        "            return tf.concat([tf.dtypes.cast(y_1_to_d, tf.float32), tf.dtypes.cast(tf.squeeze(output,-1), tf.float32)], axis=-1)\n",
        "        \n",
        "        return tf.cond(tf.equal(tf.reduce_any(input_mask), tf.constant(False)), return_identity, return_result)\n",
        "        \n",
        "        \n",
        "    def _forward_log_det_jacobian(self, x, thetas=None):\n",
        "        x_1_to_d, x_d_to_D = x[:,:self.first_d_dims], x[:,self.first_d_dims:]\n",
        "        _, intervals_for_func = self.b_interval[:self.first_d_dims], self.b_interval[self.first_d_dims:]                \n",
        "        input_mask = self._data_mask(x_d_to_D, intervals_for_func)\n",
        "        def return_identity_log_det(): return tf.constant(0.0, dtype=tf.float32)\n",
        "        \n",
        "        def return_result_log_det():\n",
        "            input_mask_indexes = tf.where(input_mask)            \n",
        "            neg_input_mask_indexes = tf.where(~input_mask)\n",
        "            thetas =  self._produce_thetas(x_1_to_d)\n",
        "            thetas_1, thetas_2, thetas_3 = self._get_thetas(thetas, input_mask_indexes)    \n",
        "            interval_indices = input_mask_indexes[:,1]\n",
        "            intervals_for_input = tf.gather(intervals_for_func, interval_indices) \n",
        "            input_for_derivative = x_d_to_D[input_mask]\n",
        "            x_bin_sizes = self._bins(thetas_1, intervals_for_input)\n",
        "            knot_xs = self._knots(x_bin_sizes, intervals_for_input)  \n",
        "            y_bin_sizes = self._bins(thetas_2, intervals_for_input)\n",
        "            knot_ys = self._knots(y_bin_sizes, intervals_for_input)\n",
        "            derivatives = self._derivatives(thetas_3)\n",
        "            locs = self._knots_locations(input_for_derivative, knot_xs)\n",
        "            floor_indices = self._indices(locs-1)\n",
        "            ceil_indices = self._indices(locs)\n",
        "            s_values = self._s_values(y_bin_sizes, x_bin_sizes)\n",
        "            xi_values = self._xi_values(input_for_derivative, knot_xs, x_bin_sizes, floor_indices)       \n",
        "            dervs = self._derivative_of_g_func(input_for_derivative, floor_indices, ceil_indices, xi_values, s_values, derivatives)            \n",
        "            output = tf.ones(tf.shape(x), dtype=tf.float32)        \n",
        "            squeezed = tf.tensor_scatter_nd_update(tf.dtypes.cast(tf.expand_dims(output,2), dtype=tf.float32), input_mask_indexes, tf.expand_dims(tf.transpose(tf.dtypes.cast(dervs,dtype=tf.float32)),1))\n",
        "            output = tf.squeeze(squeezed)            \n",
        "            log_dervs = tf.math.log(output)            \n",
        "            log_det_sum = tf.reduce_sum(log_dervs, axis=1)     \n",
        "            return log_det_sum\n",
        "        \n",
        "        r = tf.cond(tf.equal(tf.reduce_any(input_mask), tf.constant(False)), return_identity_log_det, return_result_log_det)\n",
        "        return r\n",
        "    \n",
        "    def _inverse_log_det_jacobian(self, y):\n",
        "        neg_for_log_det = -1*self._forward_log_det_jacobian(self._inverse(y))\n",
        "        return neg_for_log_det"
      ],
      "execution_count": 0,
      "outputs": []
    },
    {
      "cell_type": "code",
      "metadata": {
        "id": "mrYVj4F4_eyR",
        "colab_type": "code",
        "outputId": "423738d7-fbbe-43fb-d09f-4419d684f9bf",
        "colab": {
          "base_uri": "https://localhost:8080/",
          "height": 181
        }
      },
      "source": [
        "class NSFLayer(tf.keras.models.Model):\n",
        "    def __init__(self, *, input_dim, **kwargs):\n",
        "        super().__init__(**kwargs)\n",
        "\n",
        "        layers = 8\n",
        "        shape = [32, 32]\n",
        "\n",
        "        bijector_chain = []\n",
        "        for i in range(layers):\n",
        "            bijector_chain.append(NeuralSplineFlow(input_dim=2, d_dim=2, number_of_bins=32, nn_layers = shape, b_interval= [2, 2]))\n",
        "            bijector_chain.append(tfp.bijectors.Permute([1, 0]))\n",
        "\n",
        "        bijector = tfb.Chain(bijectors=list(reversed(bijector_chain)), name='chain_of_real_nvp')\n",
        "\n",
        "        self.flow = tfd.TransformedDistribution(\n",
        "            distribution=tfd.MultivariateNormalDiag(loc=tf.zeros(2), scale_identity_multiplier=1.0),\n",
        "            bijector = bijector)\n",
        "\n",
        "    def call(self, *inputs):\n",
        "        return self.flow.bijector.forward(*inputs)\n",
        "\n",
        "from sklearn import cluster, datasets, mixture\n",
        "\n",
        "batch_size = 1024\n",
        "X = datasets.make_moons(n_samples=batch_size, noise=.05)[0].astype(np.float32)\n",
        "\n",
        "print(X.shape, X.dtype)\n",
        "model = NSFLayer(input_dim=2)\n",
        "\n",
        "_ = model(X) \n",
        "model.summary()\n",
        "\n",
        "print('done')"
      ],
      "execution_count": 3,
      "outputs": [
        {
          "output_type": "stream",
          "text": [
            "(1024, 2) float32\n",
            "Model: \"nsf_layer\"\n",
            "_________________________________________________________________\n",
            "Layer (type)                 Output Shape              Param #   \n",
            "=================================================================\n",
            "Total params: 0\n",
            "Trainable params: 0\n",
            "Non-trainable params: 0\n",
            "_________________________________________________________________\n",
            "done\n"
          ],
          "name": "stdout"
        }
      ]
    },
    {
      "cell_type": "code",
      "metadata": {
        "id": "XZUTgpZjs_Nz",
        "colab_type": "code",
        "colab": {}
      },
      "source": [
        "base_lr = 1e-3\n",
        "end_lr = 1e-4\n",
        "max_epochs = int(5e3)  # maximum number of epochs of the training\n",
        "learning_rate_fn = tf.keras.optimizers.schedules.PolynomialDecay(base_lr, max_epochs, end_lr, power=0.5)\n",
        "\n",
        "optimizer = tf.keras.optimizers.Adam(learning_rate=learning_rate_fn)\n",
        "\n",
        "\n",
        "@tf.function #Adding the tf.function makes it about 10 times faster!!!\n",
        "def train_step(X): \n",
        "    with tf.GradientTape() as tape:\n",
        "        loss = -tf.reduce_mean(model.flow.log_prob(X)) \n",
        "    gradients = tape.gradient(loss, model.trainable_variables)\n",
        "    optimizer.apply_gradients(zip(gradients, model.trainable_variables))\n",
        "    return loss      "
      ],
      "execution_count": 0,
      "outputs": []
    },
    {
      "cell_type": "code",
      "metadata": {
        "id": "SkdjChGhtBo2",
        "colab_type": "code",
        "outputId": "64f7be8a-ebf2-4d9a-b6df-cf4b2c711a3e",
        "colab": {
          "base_uri": "https://localhost:8080/",
          "height": 181
        }
      },
      "source": [
        "from time import time\n",
        "start = time()\n",
        "for i in range(10):\n",
        "    ims = datasets.make_moons(n_samples=batch_size, noise=.05)[0].astype(np.float32)\n",
        "    loss = train_step(ims)\n",
        "    if (i % 1 == 0):\n",
        "        print(i, \" \",loss.numpy(), (time()-start))\n",
        "        start = time()"
      ],
      "execution_count": 5,
      "outputs": [
        {
          "output_type": "stream",
          "text": [
            "0   2.7066903 49.8228325843811\n",
            "1   2.7062764 0.05036664009094238\n",
            "2   2.7460852 0.04855608940124512\n",
            "3   2.7080464 0.048781394958496094\n",
            "4   2.743662 0.04992866516113281\n",
            "5   2.6881385 0.05284881591796875\n",
            "6   2.7694154 0.05014920234680176\n",
            "7   2.7300363 0.04880166053771973\n",
            "8   2.6952066 0.04961228370666504\n",
            "9   2.7192972 0.061121225357055664\n"
          ],
          "name": "stdout"
        }
      ]
    },
    {
      "cell_type": "code",
      "metadata": {
        "id": "BQNSbLjZtBvp",
        "colab_type": "code",
        "colab": {}
      },
      "source": [
        ""
      ],
      "execution_count": 0,
      "outputs": []
    },
    {
      "cell_type": "code",
      "metadata": {
        "id": "z1EYNMW7tB2e",
        "colab_type": "code",
        "colab": {}
      },
      "source": [
        ""
      ],
      "execution_count": 0,
      "outputs": []
    },
    {
      "cell_type": "code",
      "metadata": {
        "id": "pTVWk5rWtB9M",
        "colab_type": "code",
        "colab": {}
      },
      "source": [
        ""
      ],
      "execution_count": 0,
      "outputs": []
    },
    {
      "cell_type": "code",
      "metadata": {
        "id": "PFDXHFI6T0rt",
        "colab_type": "code",
        "colab": {}
      },
      "source": [
        "def train_density_no_tf(distribution, optimizer, batch):\n",
        "    \"\"\"\n",
        "    Train function for density estimation normalizing flows without tf.function decorator\n",
        "    :param distribution: TensorFlow distribution, e.g. tf.TransformedDistribution.\n",
        "    :param optimizer: TensorFlow keras optimizer, e.g. tf.keras.optimizers.Adam(..)\n",
        "    :param batch: Batch of the train data.\n",
        "    :return: loss.\n",
        "    \"\"\"\n",
        "    with tf.GradientTape() as tape:\n",
        "        loss = -tf.reduce_mean(distribution.log_prob(batch)) # negative log likelihood\n",
        "        gradients = tape.gradient(loss, distribution.trainable_variables)\n",
        "        optimizer.apply_gradients(zip(gradients, distribution.trainable_variables))\n",
        "        return loss"
      ],
      "execution_count": 0,
      "outputs": []
    },
    {
      "cell_type": "code",
      "metadata": {
        "id": "RKWnpjTfZ3pu",
        "colab_type": "code",
        "outputId": "a9830ac8-c0f3-40e0-a637-907ece0a43f2",
        "colab": {
          "base_uri": "https://localhost:8080/",
          "height": 250
        }
      },
      "source": [
        "base_lr = 1e-3\n",
        "end_lr = 1e-4\n",
        "max_epochs = 1000\n",
        "learning_rate_fn = tf.keras.optimizers.schedules.PolynomialDecay(base_lr, max_epochs, end_lr, power=0.5)\n",
        "optimizer = tf.keras.optimizers.Adam(learning_rate=learning_rate_fn)  # optimizer\n",
        "batch_size = 1024\n",
        "\n",
        "from sklearn import cluster, datasets, mixture\n",
        "from time import time\n",
        "start = time()\n",
        "\n",
        "# start training\n",
        "for i in range(max_epochs):\n",
        "    batch = datasets.make_moons(n_samples=batch_size, noise=.05)[0].astype(np.float32)\n",
        "    loss = train_density_no_tf(model.flow, optimizer, batch)\n",
        "    if (i % 100 == 0):\n",
        "        print(i, \" \",loss.numpy(), (time()-start))\n",
        "        start = time()"
      ],
      "execution_count": 7,
      "outputs": [
        {
          "output_type": "stream",
          "text": [
            "WARNING:tensorflow:From /usr/local/lib/python3.6/dist-packages/tensorflow/python/ops/array_grad.py:644: _EagerTensorBase.cpu (from tensorflow.python.framework.ops) is deprecated and will be removed in a future version.\n",
            "Instructions for updating:\n",
            "Use tf.identity instead.\n",
            "0   2.7034178 1.1666924953460693\n",
            "100   1.0053544 102.95524215698242\n",
            "200   0.646474 101.87658333778381\n",
            "300   0.51365614 101.86145424842834\n",
            "400   0.5117297 102.85974168777466\n",
            "500   0.45845956 105.4496545791626\n",
            "600   0.42963085 102.5119948387146\n",
            "700   0.43359163 110.00307583808899\n",
            "800   0.44620603 109.30544948577881\n",
            "900   0.37829643 106.67638373374939\n"
          ],
          "name": "stdout"
        }
      ]
    },
    {
      "cell_type": "code",
      "metadata": {
        "id": "Txn2VkNwZ3vb",
        "colab_type": "code",
        "colab": {
          "base_uri": "https://localhost:8080/",
          "height": 49
        },
        "outputId": "2a98271f-b311-443c-facf-a643aa92a296"
      },
      "source": [
        "#model(X)\n",
        "xc,yc = meshgrid(linspace(-1.5,2.5,128),linspace(-1.,1.5,128))\n",
        "Z = stack([xc.flatten(), yc.flatten()],axis=1).astype('float32')\n",
        "print(Z.shape, Z.dtype)\n",
        "\n",
        "S = model.flow.log_prob(Z)\n",
        "\n",
        "#S = model.flow.log_prob(Z)\n",
        "print(S.shape, S.dtype)"
      ],
      "execution_count": 8,
      "outputs": [
        {
          "output_type": "stream",
          "text": [
            "(16384, 2) float32\n",
            "(16384,) <dtype: 'float32'>\n"
          ],
          "name": "stdout"
        }
      ]
    },
    {
      "cell_type": "code",
      "metadata": {
        "id": "C53G3V0SZ30x",
        "colab_type": "code",
        "outputId": "c2e253b9-433f-46fa-d10c-c45693a5e5bc",
        "colab": {
          "base_uri": "https://localhost:8080/",
          "height": 300
        }
      },
      "source": [
        "S = S.numpy()\n",
        "print(S.shape, type(S), S.dtype)\n",
        "imshow(exp(S.reshape((128,128)))); colorbar()"
      ],
      "execution_count": 9,
      "outputs": [
        {
          "output_type": "stream",
          "text": [
            "(16384,) <class 'numpy.ndarray'> float32\n"
          ],
          "name": "stdout"
        },
        {
          "output_type": "execute_result",
          "data": {
            "text/plain": [
              "<matplotlib.colorbar.Colorbar at 0x7fa4a9ab0ac8>"
            ]
          },
          "metadata": {
            "tags": []
          },
          "execution_count": 9
        },
        {
          "output_type": "display_data",
          "data": {
            "image/png": "[encoded data removed]",
            "text/plain": [
              "<Figure size 432x288 with 2 Axes>"
            ]
          },
          "metadata": {
            "tags": [],
            "needs_background": "light"
          }
        }
      ]
    },
    {
      "cell_type": "code",
      "metadata": {
        "id": "UAvXT5JeZ36H",
        "colab_type": "code",
        "colab": {}
      },
      "source": [
        ""
      ],
      "execution_count": 0,
      "outputs": []
    },
    {
      "cell_type": "code",
      "metadata": {
        "id": "V3wCBogaZ3_8",
        "colab_type": "code",
        "colab": {}
      },
      "source": [
        ""
      ],
      "execution_count": 0,
      "outputs": []
    },
    {
      "cell_type": "code",
      "metadata": {
        "id": "DvRYSnIAVoGT",
        "colab_type": "code",
        "colab": {}
      },
      "source": [
        ""
      ],
      "execution_count": 0,
      "outputs": []
    },
    {
      "cell_type": "code",
      "metadata": {
        "id": "qero9KLgAgVQ",
        "colab_type": "code",
        "colab": {}
      },
      "source": [
        ""
      ],
      "execution_count": 0,
      "outputs": []
    },
    {
      "cell_type": "code",
      "metadata": {
        "id": "UNNRE_IUGUiD",
        "colab_type": "code",
        "colab": {}
      },
      "source": [
        ""
      ],
      "execution_count": 0,
      "outputs": []
    },
    {
      "cell_type": "code",
      "metadata": {
        "id": "yO5a-2zVGYIs",
        "colab_type": "code",
        "colab": {}
      },
      "source": [
        ""
      ],
      "execution_count": 0,
      "outputs": []
    },
    {
      "cell_type": "code",
      "metadata": {
        "id": "4sQHihv_PkI-",
        "colab_type": "code",
        "colab": {}
      },
      "source": [
        ""
      ],
      "execution_count": 0,
      "outputs": []
    }
  ]
}