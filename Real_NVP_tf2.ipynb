{
  "nbformat": 4,
  "nbformat_minor": 0,
  "metadata": {
    "colab": {
      "name": "Real-NVP.ipynb",
      "provenance": []
    },
    "kernelspec": {
      "name": "python3",
      "display_name": "Python 3"
    }
  },
  "cells": [
    {
      "cell_type": "code",
      "metadata": {
        "id": "gqT2e1X_fasC",
        "colab_type": "code",
        "colab": {
          "base_uri": "https://localhost:8080/",
          "height": 65
        },
        "outputId": "ad0cfffc-9cf9-4b20-9db9-63c89564bee7"
      },
      "source": [
        "%pylab inline\n",
        "import tensorflow as tf\n",
        "import tensorflow_probability as tfp\n",
        "import numpy as np\n",
        "\n",
        "tfd = tfp.distributions\n",
        "tfb = tfp.bijectors\n",
        "\n",
        "print(\"TFP Version\", tfp.__version__)\n",
        "print(\"TF  Version\",tf.__version__)"
      ],
      "execution_count": 1,
      "outputs": [
        {
          "output_type": "stream",
          "text": [
            "Populating the interactive namespace from numpy and matplotlib\n",
            "TFP Version 0.10.0-rc0\n",
            "TF  Version 2.2.0\n"
          ],
          "name": "stdout"
        }
      ]
    },
    {
      "cell_type": "code",
      "metadata": {
        "id": "fhom6TxQfcS7",
        "colab_type": "code",
        "colab": {}
      },
      "source": [
        "# class NVPLayer(tf.keras.layers.Layer):\n",
        "class NVPLayer(tf.keras.models.Model):\n",
        "\n",
        "    def __init__(self, *, output_dim, num_masked, **kwargs):\n",
        "        super().__init__(**kwargs)\n",
        "        self.output_dim = output_dim\n",
        "        self.num_masked = num_masked\n",
        "        self.shift_and_log_scale_fn_1 = tfb.real_nvp_default_template(\n",
        "            hidden_layers=[128, 128],\n",
        "            activation=tf.nn.leaky_relu)\n",
        "        self.shift_and_log_scale_fn_2 = tfb.real_nvp_default_template(\n",
        "            hidden_layers=[128, 128],\n",
        "            activation=tf.nn.leaky_relu)\n",
        "        self.shift_and_log_scale_fn_3 = tfb.real_nvp_default_template(\n",
        "            hidden_layers=[128, 128],\n",
        "            activation=tf.nn.leaky_relu)\n",
        "        self.shift_and_log_scale_fn_4 = tfb.real_nvp_default_template(\n",
        "            hidden_layers=[128, 128],\n",
        "            activation=tf.nn.leaky_relu)\n",
        "        \n",
        "        chain = [tfb.RealNVP(num_masked=self.num_masked,\n",
        "                shift_and_log_scale_fn=self.shift_and_log_scale_fn_1),\n",
        "                 tfb.Permute([1,0]),\n",
        "                 tfb.RealNVP(num_masked=self.num_masked,\n",
        "                shift_and_log_scale_fn=self.shift_and_log_scale_fn_2),\n",
        "                 tfb.Permute([1,0]),\n",
        "                 tfb.RealNVP(num_masked=self.num_masked,\n",
        "                shift_and_log_scale_fn=self.shift_and_log_scale_fn_3),\n",
        "                 tfb.Permute([1,0]),\n",
        "                 tfb.RealNVP(num_masked=self.num_masked,\n",
        "                shift_and_log_scale_fn=self.shift_and_log_scale_fn_4)]\n",
        "\n",
        "        bij = tfb.Chain(chain)\n",
        "        \n",
        "        self.flow = tfd.TransformedDistribution(\n",
        "            distribution=tfd.MultivariateNormalDiag(loc=tf.zeros(2), scale_identity_multiplier=1.0),\n",
        "            bijector = bij\n",
        "        )\n",
        "\n",
        "    def call(self, *inputs):\n",
        "        return self.flow.bijector.forward(*inputs)\n",
        "\n",
        "    def get_loss(self, *inputs):\n",
        "        return tf.reduce_mean(nvp.log_prob(*inputs)) # how else to do this?\n"
      ],
      "execution_count": 0,
      "outputs": []
    },
    {
      "cell_type": "code",
      "metadata": {
        "id": "duaLVJsVf7uW",
        "colab_type": "code",
        "colab": {
          "base_uri": "https://localhost:8080/",
          "height": 332
        },
        "outputId": "a191d9d2-2416-43d4-9265-25bea8719801"
      },
      "source": [
        "from sklearn import cluster, datasets, mixture\n",
        "\n",
        "batch_size = 1024\n",
        "X = datasets.make_moons(n_samples=batch_size, noise=.05)[0].astype(np.float32)\n",
        "\n",
        "print(X.shape, X.dtype)\n",
        "model = NVPLayer(output_dim=2, num_masked=1)\n",
        "#model.summary() #Yields an error. The model needs called before it is build.\n",
        "_ = model(X) \n",
        "model.summary()"
      ],
      "execution_count": 3,
      "outputs": [
        {
          "output_type": "stream",
          "text": [
            "(1024, 2) float32\n",
            "WARNING:tensorflow:From /usr/local/lib/python3.6/dist-packages/tensorflow_probability/python/bijectors/real_nvp.py:388: dense (from tensorflow.python.layers.core) is deprecated and will be removed in a future version.\n",
            "Instructions for updating:\n",
            "Use keras.layers.Dense instead.\n",
            "WARNING:tensorflow:From /usr/local/lib/python3.6/dist-packages/tensorflow/python/layers/core.py:187: Layer.apply (from tensorflow.python.keras.engine.base_layer) is deprecated and will be removed in a future version.\n",
            "Instructions for updating:\n",
            "Please use `layer.__call__` method instead.\n",
            "WARNING:tensorflow:From /usr/local/lib/python3.6/dist-packages/tensorflow_probability/python/bijectors/real_nvp.py:223: AffineScalar.__init__ (from tensorflow_probability.python.bijectors.affine_scalar) is deprecated and will be removed after 2020-01-01.\n",
            "Instructions for updating:\n",
            "`AffineScalar` bijector is deprecated; please use `tfb.Shift(loc)(tfb.Scale(...))` instead.\n",
            "Model: \"nvp_layer\"\n",
            "_________________________________________________________________\n",
            "Layer (type)                 Output Shape              Param #   \n",
            "=================================================================\n",
            "Total params: 68,104\n",
            "Trainable params: 68,104\n",
            "Non-trainable params: 0\n",
            "_________________________________________________________________\n"
          ],
          "name": "stdout"
        }
      ]
    },
    {
      "cell_type": "code",
      "metadata": {
        "id": "-46pXRd48lXK",
        "colab_type": "code",
        "colab": {}
      },
      "source": [
        ""
      ],
      "execution_count": 0,
      "outputs": []
    },
    {
      "cell_type": "code",
      "metadata": {
        "id": "wAlQQxqyfewB",
        "colab_type": "code",
        "colab": {}
      },
      "source": [
        "base_lr = 1e-3\n",
        "end_lr = 1e-4\n",
        "max_epochs = int(5e3)  # maximum number of epochs of the training\n",
        "learning_rate_fn = tf.keras.optimizers.schedules.PolynomialDecay(base_lr, max_epochs, end_lr, power=0.5)\n",
        "\n",
        "optimizer = tf.keras.optimizers.Adam(learning_rate=learning_rate_fn)\n",
        "\n",
        "\n",
        "@tf.function #Adding the tf.function makes it about 10 times faster!!!\n",
        "def train_step(X): \n",
        "    with tf.GradientTape() as tape:\n",
        "        loss = -tf.reduce_mean(model.flow.log_prob(X)) \n",
        "    gradients = tape.gradient(loss, model.trainable_variables)\n",
        "    optimizer.apply_gradients(zip(gradients, model.trainable_variables))\n",
        "    return loss      "
      ],
      "execution_count": 0,
      "outputs": []
    },
    {
      "cell_type": "code",
      "metadata": {
        "id": "1seLDA_Y8vl8",
        "colab_type": "code",
        "colab": {}
      },
      "source": [
        "# Training Step"
      ],
      "execution_count": 0,
      "outputs": []
    },
    {
      "cell_type": "code",
      "metadata": {
        "id": "jHyAY_yhfgvD",
        "colab_type": "code",
        "colab": {
          "base_uri": "https://localhost:8080/",
          "height": 840
        },
        "outputId": "3c714a6c-325f-4093-b2c7-4e5739b0fb1c"
      },
      "source": [
        "from time import time\n",
        "start = time()\n",
        "for i in range(max_epochs):\n",
        "    ims = datasets.make_moons(n_samples=batch_size, noise=.05)[0].astype(np.float32)\n",
        "    loss = train_step(ims)\n",
        "    if (i % 100 == 0):\n",
        "        print(i, \" \",loss.numpy(), (time()-start))\n",
        "        start = time()"
      ],
      "execution_count": 7,
      "outputs": [
        {
          "output_type": "stream",
          "text": [
            "0   2.5584822 2.0955283641815186\n",
            "100   1.2062086 2.6096136569976807\n",
            "200   1.3903681 2.688115119934082\n",
            "300   1.3307904 2.656222105026245\n",
            "400   1.1037066 2.6816930770874023\n",
            "500   1.719653 2.72782564163208\n",
            "600   1.07788 2.723607063293457\n",
            "700   0.92247 2.6438257694244385\n",
            "800   0.78182924 2.657026529312134\n",
            "900   0.62745667 2.761458396911621\n",
            "1000   0.62051827 2.778958559036255\n",
            "1100   0.48839474 2.6948585510253906\n",
            "1200   0.4832791 2.6598916053771973\n",
            "1300   0.413544 2.672874927520752\n",
            "1400   0.42318484 2.675199031829834\n",
            "1500   0.43529022 2.651381015777588\n",
            "1600   0.36944193 2.6812052726745605\n",
            "1700   0.34759408 2.671696424484253\n",
            "1800   0.40756655 2.643587589263916\n",
            "1900   0.37286216 2.629924774169922\n",
            "2000   0.35321394 2.6304008960723877\n",
            "2100   0.3685475 2.6035444736480713\n",
            "2200   0.35833353 2.615960121154785\n",
            "2300   0.3348218 2.6353349685668945\n",
            "2400   0.34710616 2.640578031539917\n",
            "2500   0.33356303 2.628951072692871\n",
            "2600   0.3416059 2.6173031330108643\n",
            "2700   0.3593502 2.5998127460479736\n",
            "2800   0.3812969 2.605689525604248\n",
            "2900   0.38704634 2.613126277923584\n",
            "3000   0.3623762 2.661916494369507\n",
            "3100   0.31924754 2.596667528152466\n",
            "3200   0.35045087 2.579895257949829\n",
            "3300   0.33652124 2.617281675338745\n",
            "3400   0.34940255 2.605668544769287\n",
            "3500   0.35891587 2.600268602371216\n",
            "3600   0.329724 2.61489200592041\n",
            "3700   0.3315189 2.7080931663513184\n",
            "3800   0.3712293 2.6099302768707275\n",
            "3900   0.3631906 2.580082893371582\n",
            "4000   0.3254829 2.614912509918213\n",
            "4100   0.34408587 2.6102824211120605\n",
            "4200   0.34446943 2.6174733638763428\n",
            "4300   0.32953155 2.6012117862701416\n",
            "4400   0.31778648 2.589219331741333\n",
            "4500   0.3168267 2.574460744857788\n",
            "4600   0.3140426 2.5892422199249268\n",
            "4700   0.3153913 2.6035661697387695\n",
            "4800   0.3170036 2.6160764694213867\n",
            "4900   0.3579595 2.603074789047241\n"
          ],
          "name": "stdout"
        }
      ]
    },
    {
      "cell_type": "code",
      "metadata": {
        "id": "gZCVr-w3fiAL",
        "colab_type": "code",
        "colab": {
          "base_uri": "https://localhost:8080/",
          "height": 65
        },
        "outputId": "1cb2ec75-87af-4d54-9a4f-d0a59f51117a"
      },
      "source": [
        "#model(X)\n",
        "xc,yc = meshgrid(linspace(-1.5,2.5,128),linspace(-1.,1.5,128))\n",
        "Z = stack([xc.flatten(), yc.flatten()],axis=1).astype('float32')\n",
        "print(Z.shape, Z.dtype)\n",
        "\n",
        "@tf.function\n",
        "def get_log(X):\n",
        "    return model.flow.log_prob(X)\n",
        "\n",
        "S = get_log(Z)\n",
        "\n",
        "#S = model.flow.log_prob(Z)\n",
        "print(S.shape, S.dtype)"
      ],
      "execution_count": 8,
      "outputs": [
        {
          "output_type": "stream",
          "text": [
            "(16384, 2) float32\n",
            "(1024, 2) float32\n",
            "(16384,) <dtype: 'float32'>\n"
          ],
          "name": "stdout"
        }
      ]
    },
    {
      "cell_type": "code",
      "metadata": {
        "id": "dV9Ub0xpfjuB",
        "colab_type": "code",
        "colab": {
          "base_uri": "https://localhost:8080/",
          "height": 300
        },
        "outputId": "2351600a-074e-4710-e5cb-1c6383d6d340"
      },
      "source": [
        "S = S.numpy()\n",
        "print(S.shape, type(S), S.dtype)\n",
        "imshow(exp(S.reshape((128,128)))); colorbar()"
      ],
      "execution_count": 9,
      "outputs": [
        {
          "output_type": "stream",
          "text": [
            "(16384,) <class 'numpy.ndarray'> float32\n"
          ],
          "name": "stdout"
        },
        {
          "output_type": "execute_result",
          "data": {
            "text/plain": [
              "<matplotlib.colorbar.Colorbar at 0x7f9b3108d390>"
            ]
          },
          "metadata": {
            "tags": []
          },
          "execution_count": 9
        },
        {
          "output_type": "display_data",
          "data": {
            "image/png": "[encoded data removed]",
            "text/plain": [
              "<Figure size 432x288 with 2 Axes>"
            ]
          },
          "metadata": {
            "tags": [],
            "needs_background": "light"
          }
        }
      ]
    },
    {
      "cell_type": "code",
      "metadata": {
        "id": "plLgXVXl2Dx-",
        "colab_type": "code",
        "colab": {
          "base_uri": "https://localhost:8080/",
          "height": 32
        },
        "outputId": "82c984fd-376b-42b0-8781-ad7b7ea2a174"
      },
      "source": [
        "print(loss.numpy())"
      ],
      "execution_count": 10,
      "outputs": [
        {
          "output_type": "stream",
          "text": [
            "0.33156407\n"
          ],
          "name": "stdout"
        }
      ]
    }
  ]
}